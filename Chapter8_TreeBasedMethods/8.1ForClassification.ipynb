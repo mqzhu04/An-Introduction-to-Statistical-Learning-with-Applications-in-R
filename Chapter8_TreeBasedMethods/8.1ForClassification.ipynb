{
 "cells": [
  {
   "attachments": {},
   "cell_type": "markdown",
   "metadata": {},
   "source": [
    "In this profile, we will perform tree based models in classification task."
   ]
  },
  {
   "cell_type": "code",
   "execution_count": null,
   "metadata": {
    "vscode": {
     "languageId": "r"
    }
   },
   "outputs": [],
   "source": [
    "load(\"8.1ForClassification.RData\")"
   ]
  },
  {
   "cell_type": "code",
   "execution_count": 13,
   "metadata": {
    "vscode": {
     "languageId": "r"
    }
   },
   "outputs": [],
   "source": [
    "library(tree)\n",
    "library(randomForest)\n",
    "library(gbm)\n",
    "library(pROC)\n",
    "library(DMwR2)\n",
    "library(mlbench)\n",
    "library(MASS)"
   ]
  },
  {
   "attachments": {},
   "cell_type": "markdown",
   "metadata": {},
   "source": [
    "# 1 Process data\n",
    "Although tree model can handle missing values without explict processing steps, it's still important to be mindful of the potential implications and consider the impact of missingness on the model's performance, interpretation, and any downstream analysis. So, we impute missing values in this example. \n",
    "\n",
    "For binary classification, we can use either numeric or factor. \n",
    "We use factor y in decision tree/ bagging/ random forests as numberic y will be treated as regression task.\n",
    "We use numeric y in gbm as factor type of y will return NAs' cofficient."
   ]
  },
  {
   "cell_type": "code",
   "execution_count": 2,
   "metadata": {
    "vscode": {
     "languageId": "r"
    }
   },
   "outputs": [
    {
     "data": {
      "text/html": [
       "<table class=\"dataframe\">\n",
       "<caption>A data.frame: 6 × 9</caption>\n",
       "<thead>\n",
       "\t<tr><th></th><th scope=col>pregnant</th><th scope=col>glucose</th><th scope=col>pressure</th><th scope=col>triceps</th><th scope=col>insulin</th><th scope=col>mass</th><th scope=col>pedigree</th><th scope=col>age</th><th scope=col>diabetes</th></tr>\n",
       "\t<tr><th></th><th scope=col>&lt;dbl&gt;</th><th scope=col>&lt;dbl&gt;</th><th scope=col>&lt;dbl&gt;</th><th scope=col>&lt;dbl&gt;</th><th scope=col>&lt;dbl&gt;</th><th scope=col>&lt;dbl&gt;</th><th scope=col>&lt;dbl&gt;</th><th scope=col>&lt;dbl&gt;</th><th scope=col>&lt;fct&gt;</th></tr>\n",
       "</thead>\n",
       "<tbody>\n",
       "\t<tr><th scope=row>1</th><td>6</td><td>148</td><td>72</td><td>35</td><td> NA</td><td>33.6</td><td>0.627</td><td>50</td><td>pos</td></tr>\n",
       "\t<tr><th scope=row>2</th><td>1</td><td> 85</td><td>66</td><td>29</td><td> NA</td><td>26.6</td><td>0.351</td><td>31</td><td>neg</td></tr>\n",
       "\t<tr><th scope=row>3</th><td>8</td><td>183</td><td>64</td><td>NA</td><td> NA</td><td>23.3</td><td>0.672</td><td>32</td><td>pos</td></tr>\n",
       "\t<tr><th scope=row>4</th><td>1</td><td> 89</td><td>66</td><td>23</td><td> 94</td><td>28.1</td><td>0.167</td><td>21</td><td>neg</td></tr>\n",
       "\t<tr><th scope=row>5</th><td>0</td><td>137</td><td>40</td><td>35</td><td>168</td><td>43.1</td><td>2.288</td><td>33</td><td>pos</td></tr>\n",
       "\t<tr><th scope=row>6</th><td>5</td><td>116</td><td>74</td><td>NA</td><td> NA</td><td>25.6</td><td>0.201</td><td>30</td><td>neg</td></tr>\n",
       "</tbody>\n",
       "</table>\n"
      ],
      "text/latex": [
       "A data.frame: 6 × 9\n",
       "\\begin{tabular}{r|lllllllll}\n",
       "  & pregnant & glucose & pressure & triceps & insulin & mass & pedigree & age & diabetes\\\\\n",
       "  & <dbl> & <dbl> & <dbl> & <dbl> & <dbl> & <dbl> & <dbl> & <dbl> & <fct>\\\\\n",
       "\\hline\n",
       "\t1 & 6 & 148 & 72 & 35 &  NA & 33.6 & 0.627 & 50 & pos\\\\\n",
       "\t2 & 1 &  85 & 66 & 29 &  NA & 26.6 & 0.351 & 31 & neg\\\\\n",
       "\t3 & 8 & 183 & 64 & NA &  NA & 23.3 & 0.672 & 32 & pos\\\\\n",
       "\t4 & 1 &  89 & 66 & 23 &  94 & 28.1 & 0.167 & 21 & neg\\\\\n",
       "\t5 & 0 & 137 & 40 & 35 & 168 & 43.1 & 2.288 & 33 & pos\\\\\n",
       "\t6 & 5 & 116 & 74 & NA &  NA & 25.6 & 0.201 & 30 & neg\\\\\n",
       "\\end{tabular}\n"
      ],
      "text/markdown": [
       "\n",
       "A data.frame: 6 × 9\n",
       "\n",
       "| <!--/--> | pregnant &lt;dbl&gt; | glucose &lt;dbl&gt; | pressure &lt;dbl&gt; | triceps &lt;dbl&gt; | insulin &lt;dbl&gt; | mass &lt;dbl&gt; | pedigree &lt;dbl&gt; | age &lt;dbl&gt; | diabetes &lt;fct&gt; |\n",
       "|---|---|---|---|---|---|---|---|---|---|\n",
       "| 1 | 6 | 148 | 72 | 35 |  NA | 33.6 | 0.627 | 50 | pos |\n",
       "| 2 | 1 |  85 | 66 | 29 |  NA | 26.6 | 0.351 | 31 | neg |\n",
       "| 3 | 8 | 183 | 64 | NA |  NA | 23.3 | 0.672 | 32 | pos |\n",
       "| 4 | 1 |  89 | 66 | 23 |  94 | 28.1 | 0.167 | 21 | neg |\n",
       "| 5 | 0 | 137 | 40 | 35 | 168 | 43.1 | 2.288 | 33 | pos |\n",
       "| 6 | 5 | 116 | 74 | NA |  NA | 25.6 | 0.201 | 30 | neg |\n",
       "\n"
      ],
      "text/plain": [
       "  pregnant glucose pressure triceps insulin mass pedigree age diabetes\n",
       "1 6        148     72       35       NA     33.6 0.627    50  pos     \n",
       "2 1         85     66       29       NA     26.6 0.351    31  neg     \n",
       "3 8        183     64       NA       NA     23.3 0.672    32  pos     \n",
       "4 1         89     66       23       94     28.1 0.167    21  neg     \n",
       "5 0        137     40       35      168     43.1 2.288    33  pos     \n",
       "6 5        116     74       NA       NA     25.6 0.201    30  neg     "
      ]
     },
     "metadata": {},
     "output_type": "display_data"
    },
    {
     "name": "stdout",
     "output_type": "stream",
     "text": [
      "Sum of NAs in cdata is 652"
     ]
    },
    {
     "data": {
      "text/html": [
       "<style>\n",
       ".dl-inline {width: auto; margin:0; padding: 0}\n",
       ".dl-inline>dt, .dl-inline>dd {float: none; width: auto; display: inline-block}\n",
       ".dl-inline>dt::after {content: \":\\0020\"; padding-right: .5ex}\n",
       ".dl-inline>dt:not(:first-of-type) {padding-left: .5ex}\n",
       "</style><dl class=dl-inline><dt>triceps</dt><dd>4</dd><dt>insulin</dt><dd>5</dd></dl>\n"
      ],
      "text/latex": [
       "\\begin{description*}\n",
       "\\item[triceps] 4\n",
       "\\item[insulin] 5\n",
       "\\end{description*}\n"
      ],
      "text/markdown": [
       "triceps\n",
       ":   4insulin\n",
       ":   5\n",
       "\n"
      ],
      "text/plain": [
       "triceps insulin \n",
       "      4       5 "
      ]
     },
     "metadata": {},
     "output_type": "display_data"
    },
    {
     "data": {
      "text/html": [
       "<style>\n",
       ".list-inline {list-style: none; margin:0; padding: 0}\n",
       ".list-inline>li {display: inline-block}\n",
       ".list-inline>li:not(:last-child)::after {content: \"\\00b7\"; padding: 0 .5ex}\n",
       "</style>\n",
       "<ol class=list-inline><li>768</li><li>7</li></ol>\n"
      ],
      "text/latex": [
       "\\begin{enumerate*}\n",
       "\\item 768\n",
       "\\item 7\n",
       "\\end{enumerate*}\n"
      ],
      "text/markdown": [
       "1. 768\n",
       "2. 7\n",
       "\n",
       "\n"
      ],
      "text/plain": [
       "[1] 768   7"
      ]
     },
     "metadata": {},
     "output_type": "display_data"
    },
    {
     "name": "stdout",
     "output_type": "stream",
     "text": [
      "Sum of NAs in imputed cdata 0"
     ]
    },
    {
     "data": {
      "text/html": [
       "<table class=\"dataframe\">\n",
       "<caption>A data.frame: 2 × 7</caption>\n",
       "<thead>\n",
       "\t<tr><th></th><th scope=col>pregnant</th><th scope=col>glucose</th><th scope=col>pressure</th><th scope=col>mass</th><th scope=col>pedigree</th><th scope=col>age</th><th scope=col>diabetes</th></tr>\n",
       "\t<tr><th></th><th scope=col>&lt;dbl&gt;</th><th scope=col>&lt;dbl&gt;</th><th scope=col>&lt;dbl&gt;</th><th scope=col>&lt;dbl&gt;</th><th scope=col>&lt;dbl&gt;</th><th scope=col>&lt;dbl&gt;</th><th scope=col>&lt;dbl&gt;</th></tr>\n",
       "</thead>\n",
       "<tbody>\n",
       "\t<tr><th scope=row>1</th><td>6</td><td>148</td><td>72</td><td>33.6</td><td>0.627</td><td>50</td><td>2</td></tr>\n",
       "\t<tr><th scope=row>2</th><td>1</td><td> 85</td><td>66</td><td>26.6</td><td>0.351</td><td>31</td><td>1</td></tr>\n",
       "</tbody>\n",
       "</table>\n"
      ],
      "text/latex": [
       "A data.frame: 2 × 7\n",
       "\\begin{tabular}{r|lllllll}\n",
       "  & pregnant & glucose & pressure & mass & pedigree & age & diabetes\\\\\n",
       "  & <dbl> & <dbl> & <dbl> & <dbl> & <dbl> & <dbl> & <dbl>\\\\\n",
       "\\hline\n",
       "\t1 & 6 & 148 & 72 & 33.6 & 0.627 & 50 & 2\\\\\n",
       "\t2 & 1 &  85 & 66 & 26.6 & 0.351 & 31 & 1\\\\\n",
       "\\end{tabular}\n"
      ],
      "text/markdown": [
       "\n",
       "A data.frame: 2 × 7\n",
       "\n",
       "| <!--/--> | pregnant &lt;dbl&gt; | glucose &lt;dbl&gt; | pressure &lt;dbl&gt; | mass &lt;dbl&gt; | pedigree &lt;dbl&gt; | age &lt;dbl&gt; | diabetes &lt;dbl&gt; |\n",
       "|---|---|---|---|---|---|---|---|\n",
       "| 1 | 6 | 148 | 72 | 33.6 | 0.627 | 50 | 2 |\n",
       "| 2 | 1 |  85 | 66 | 26.6 | 0.351 | 31 | 1 |\n",
       "\n"
      ],
      "text/plain": [
       "  pregnant glucose pressure mass pedigree age diabetes\n",
       "1 6        148     72       33.6 0.627    50  2       \n",
       "2 1         85     66       26.6 0.351    31  1       "
      ]
     },
     "metadata": {},
     "output_type": "display_data"
    },
    {
     "data": {
      "text/html": [
       "<table class=\"dataframe\">\n",
       "<caption>A data.frame: 6 × 7</caption>\n",
       "<thead>\n",
       "\t<tr><th></th><th scope=col>pregnant</th><th scope=col>glucose</th><th scope=col>pressure</th><th scope=col>mass</th><th scope=col>pedigree</th><th scope=col>age</th><th scope=col>diabetes</th></tr>\n",
       "\t<tr><th></th><th scope=col>&lt;dbl&gt;</th><th scope=col>&lt;dbl&gt;</th><th scope=col>&lt;dbl&gt;</th><th scope=col>&lt;dbl&gt;</th><th scope=col>&lt;dbl&gt;</th><th scope=col>&lt;dbl&gt;</th><th scope=col>&lt;fct&gt;</th></tr>\n",
       "</thead>\n",
       "<tbody>\n",
       "\t<tr><th scope=row>1</th><td>6</td><td>148</td><td>72</td><td>33.6</td><td>0.627</td><td>50</td><td>1</td></tr>\n",
       "\t<tr><th scope=row>2</th><td>1</td><td> 85</td><td>66</td><td>26.6</td><td>0.351</td><td>31</td><td>0</td></tr>\n",
       "\t<tr><th scope=row>3</th><td>8</td><td>183</td><td>64</td><td>23.3</td><td>0.672</td><td>32</td><td>1</td></tr>\n",
       "\t<tr><th scope=row>4</th><td>1</td><td> 89</td><td>66</td><td>28.1</td><td>0.167</td><td>21</td><td>0</td></tr>\n",
       "\t<tr><th scope=row>5</th><td>0</td><td>137</td><td>40</td><td>43.1</td><td>2.288</td><td>33</td><td>1</td></tr>\n",
       "\t<tr><th scope=row>6</th><td>5</td><td>116</td><td>74</td><td>25.6</td><td>0.201</td><td>30</td><td>0</td></tr>\n",
       "</tbody>\n",
       "</table>\n"
      ],
      "text/latex": [
       "A data.frame: 6 × 7\n",
       "\\begin{tabular}{r|lllllll}\n",
       "  & pregnant & glucose & pressure & mass & pedigree & age & diabetes\\\\\n",
       "  & <dbl> & <dbl> & <dbl> & <dbl> & <dbl> & <dbl> & <fct>\\\\\n",
       "\\hline\n",
       "\t1 & 6 & 148 & 72 & 33.6 & 0.627 & 50 & 1\\\\\n",
       "\t2 & 1 &  85 & 66 & 26.6 & 0.351 & 31 & 0\\\\\n",
       "\t3 & 8 & 183 & 64 & 23.3 & 0.672 & 32 & 1\\\\\n",
       "\t4 & 1 &  89 & 66 & 28.1 & 0.167 & 21 & 0\\\\\n",
       "\t5 & 0 & 137 & 40 & 43.1 & 2.288 & 33 & 1\\\\\n",
       "\t6 & 5 & 116 & 74 & 25.6 & 0.201 & 30 & 0\\\\\n",
       "\\end{tabular}\n"
      ],
      "text/markdown": [
       "\n",
       "A data.frame: 6 × 7\n",
       "\n",
       "| <!--/--> | pregnant &lt;dbl&gt; | glucose &lt;dbl&gt; | pressure &lt;dbl&gt; | mass &lt;dbl&gt; | pedigree &lt;dbl&gt; | age &lt;dbl&gt; | diabetes &lt;fct&gt; |\n",
       "|---|---|---|---|---|---|---|---|\n",
       "| 1 | 6 | 148 | 72 | 33.6 | 0.627 | 50 | 1 |\n",
       "| 2 | 1 |  85 | 66 | 26.6 | 0.351 | 31 | 0 |\n",
       "| 3 | 8 | 183 | 64 | 23.3 | 0.672 | 32 | 1 |\n",
       "| 4 | 1 |  89 | 66 | 28.1 | 0.167 | 21 | 0 |\n",
       "| 5 | 0 | 137 | 40 | 43.1 | 2.288 | 33 | 1 |\n",
       "| 6 | 5 | 116 | 74 | 25.6 | 0.201 | 30 | 0 |\n",
       "\n"
      ],
      "text/plain": [
       "  pregnant glucose pressure mass pedigree age diabetes\n",
       "1 6        148     72       33.6 0.627    50  1       \n",
       "2 1         85     66       26.6 0.351    31  0       \n",
       "3 8        183     64       23.3 0.672    32  1       \n",
       "4 1         89     66       28.1 0.167    21  0       \n",
       "5 0        137     40       43.1 2.288    33  1       \n",
       "6 5        116     74       25.6 0.201    30  0       "
      ]
     },
     "metadata": {},
     "output_type": "display_data"
    }
   ],
   "source": [
    "data(\"PimaIndiansDiabetes2\")\n",
    "cdata <- PimaIndiansDiabetes2\n",
    "head(cdata)\n",
    "\n",
    "cat(\"Sum of NAs in cdata is\", sum(is.na(cdata)))\n",
    "manyNAs(t(cdata), nORp = 0.1)\n",
    "cdata <- cdata[, -manyNAs(t(cdata), nORp = 0.1)]\n",
    "dim(cdata)\n",
    "cdata <- knnImputation(data = cdata, k = 10, scale = T, meth = \"weighAvg\", distData = NULL)\n",
    "cat(\"Sum of NAs in imputed cdata\", sum(is.na(cdata)))\n",
    "cdata$diabetes <- as.numeric(cdata$diabetes)\n",
    "head(cdata, n = c(2, 7))\n",
    "cdata <- transform(cdata, diabetes = diabetes -1)\n",
    "cdata$diabetes <- factor(cdata$diabetes)\n",
    "head(cdata)\n",
    "set.seed(0)\n",
    "ctrain <- sample(1: nrow(cdata), size = nrow(cdata) * 0.8)\n",
    "cy.test <- cdata$diabetes[-ctrain]"
   ]
  },
  {
   "attachments": {},
   "cell_type": "markdown",
   "metadata": {},
   "source": [
    "# 2 Decision Tree"
   ]
  },
  {
   "attachments": {},
   "cell_type": "markdown",
   "metadata": {},
   "source": [
    "fitting a big decision tree in training data and predicting in testing data"
   ]
  },
  {
   "cell_type": "code",
   "execution_count": 3,
   "metadata": {
    "vscode": {
     "languageId": "r"
    }
   },
   "outputs": [
    {
     "name": "stdout",
     "output_type": "stream",
     "text": [
      "Splitting continues until the terminal nodes are \n",
      "too small or too few to be split. \n",
      "Regression trees' depth is limited to 31, \n",
      "and classfication trees' is 32."
     ]
    },
    {
     "data": {
      "text/plain": [
       "\n",
       "Classification tree:\n",
       "tree(formula = diabetes ~ ., data = cdata, subset = ctrain)\n",
       "Variables actually used in tree construction:\n",
       "[1] \"glucose\"  \"mass\"     \"age\"      \"pedigree\"\n",
       "Number of terminal nodes:  12 \n",
       "Residual mean deviance:  0.8768 = 527.9 / 602 \n",
       "Misclassification error rate: 0.2068 = 127 / 614 "
      ]
     },
     "metadata": {},
     "output_type": "display_data"
    },
    {
     "name": "stdout",
     "output_type": "stream",
     "text": [
      "The auc is 0.8649038\n",
      "The accuracy is 0.7922078"
     ]
    },
    {
     "data": {
      "text/plain": [
       "             cy.test\n",
       "cbigtree.pred  0  1\n",
       "            0 86 14\n",
       "            1 18 36"
      ]
     },
     "metadata": {},
     "output_type": "display_data"
    },
    {
     "data": {
      "image/png": "[encoded data removed]",
      "text/plain": [
       "plot without title"
      ]
     },
     "metadata": {
      "image/png": {
       "height": 420,
       "width": 420
      }
     },
     "output_type": "display_data"
    }
   ],
   "source": [
    "cbigtree <- tree(diabetes~. , data = cdata, subset = ctrain)\n",
    "cat(\"Splitting continues until the terminal nodes are \n",
    "too small or too few to be split. \n",
    "Regression trees' depth is limited to 31, \n",
    "and classfication trees' is 32.\")\n",
    "summary(cbigtree)\n",
    "plot(cbigtree)\n",
    "text(cbigtree, pretty = 0)\n",
    "cbigtree.prob <- predict(cbigtree, newdata = cdata[-ctrain, ], type = \"vector\")[, 2]\n",
    "cat(\"The auc is\", auc(response = cdata$diabetes[-ctrain], predictor = cbigtree.prob, levels = c(0, 1), direction = \"<\"))\n",
    "cbigtree.pred <- predict(cbigtree, newdata = cdata[-ctrain, ], type = \"class\")\n",
    "cat(\"\\nThe accuracy is\", sum(cbigtree.pred == cy.test) / length(cy.test))\n",
    "table(cbigtree.pred, cy.test)"
   ]
  },
  {
   "attachments": {},
   "cell_type": "markdown",
   "metadata": {},
   "source": [
    "prune---using cross-validation to select the best $\\alpha$"
   ]
  },
  {
   "cell_type": "code",
   "execution_count": 4,
   "metadata": {
    "vscode": {
     "languageId": "r"
    }
   },
   "outputs": [
    {
     "name": "stdout",
     "output_type": "stream",
     "text": [
      "FUN=prune.misclass - means we want classification error rate instead of devience to select the best tree\n"
     ]
    },
    {
     "data": {
      "text/plain": [
       "$size\n",
       "[1] 12 11  6  4  3  2  1\n",
       "\n",
       "$dev\n",
       "[1] 174 174 175 171 161 175 219\n",
       "\n",
       "$k\n",
       "[1] -Inf  0.0  1.8  3.0  5.0 24.0 47.0\n",
       "\n",
       "$method\n",
       "[1] \"misclass\"\n",
       "\n",
       "attr(,\"class\")\n",
       "[1] \"prune\"         \"tree.sequence\""
      ]
     },
     "metadata": {},
     "output_type": "display_data"
    },
    {
     "name": "stdout",
     "output_type": "stream",
     "text": [
      "Note: 1.k means alpha in prune loss\n",
      "      2.despite the name, 'dev' correspond to the cross-validation error rate in this instance\n",
      "The best size of the tree is 3"
     ]
    },
    {
     "data": {
      "image/png": "[encoded data removed]",
      "text/plain": [
       "plot without title"
      ]
     },
     "metadata": {
      "image/png": {
       "height": 420,
       "width": 420
      }
     },
     "output_type": "display_data"
    }
   ],
   "source": [
    "set.seed(1)\n",
    "cat(\"FUN=prune.misclass - means we want classification error rate instead of devience to select the best tree\n",
    "\")\n",
    "ccv <- cv.tree(cbigtree, FUN = prune.misclass)\n",
    "ccv\n",
    "cat(\"Note: 1.k means alpha in prune loss\\n\")\n",
    "cat(\"      2.despite the name, 'dev' correspond to the cross-validation error rate in this instance\\n\")\n",
    "cat(\"The best size of the tree is\", ccv$size[which.min(ccv$dev)])\n",
    "par(mfrow = c(1, 2))\n",
    "plot(ccv$size, ccv$dev, type = \"b\")\n",
    "plot(ccv$k, ccv$dev, type=\"b\")"
   ]
  },
  {
   "attachments": {},
   "cell_type": "markdown",
   "metadata": {},
   "source": [
    "prune---getting best subtree and predicting"
   ]
  },
  {
   "cell_type": "code",
   "execution_count": 5,
   "metadata": {
    "vscode": {
     "languageId": "r"
    }
   },
   "outputs": [
    {
     "name": "stdout",
     "output_type": "stream",
     "text": [
      "The auc is 0.7855769"
     ]
    },
    {
     "name": "stdout",
     "output_type": "stream",
     "text": [
      "\n",
      "The accuracy is 0.7922078"
     ]
    },
    {
     "data": {
      "text/plain": [
       "           cy.test\n",
       "cprune.pred  0  1\n",
       "          0 90 18\n",
       "          1 14 32"
      ]
     },
     "metadata": {},
     "output_type": "display_data"
    },
    {
     "data": {
      "image/png": "[encoded data removed]",
      "text/plain": [
       "plot without title"
      ]
     },
     "metadata": {
      "image/png": {
       "height": 420,
       "width": 420
      }
     },
     "output_type": "display_data"
    }
   ],
   "source": [
    "cprune <- prune.misclass(tree = cbigtree, best = ccv$size[which.min(ccv$dev)])\n",
    "plot(cprune)\n",
    "text(cprune, pretty = 0)\n",
    "cprune.prob <- predict(cprune, newdata = cdata[-ctrain, ], type = \"vector\")[, 2]\n",
    "cat(\"The auc is\", auc(response = cy.test, predictor = cprune.prob, levels = c(0, 1), direction = \"<\"))\n",
    "cprune.pred <- predict(cprune, newdata = cdata[-ctrain, ], type = \"class\")\n",
    "cat(\"\\nThe accuracy is\", sum(cprune.pred == cy.test) / length(cy.test))\n",
    "table(cprune.pred, cy.test)"
   ]
  },
  {
   "attachments": {},
   "cell_type": "markdown",
   "metadata": {},
   "source": [
    "# 3. Bagging and Random Forests\n",
    "By default, randomForest()\n",
    "uses p/3 variables when building a random forest of regression trees, and\n",
    "$\\sqrt{p}$ variables when building a random forest of classification trees."
   ]
  },
  {
   "attachments": {},
   "cell_type": "markdown",
   "metadata": {},
   "source": [
    "bagging"
   ]
  },
  {
   "cell_type": "code",
   "execution_count": 6,
   "metadata": {
    "vscode": {
     "languageId": "r"
    }
   },
   "outputs": [
    {
     "data": {
      "text/plain": [
       "\n",
       "Call:\n",
       " randomForest(formula = diabetes ~ ., data = cdata, mtry = 6,      type = \"classification\", importance = TRUE, subset = ctrain) \n",
       "               Type of random forest: classification\n",
       "                     Number of trees: 500\n",
       "No. of variables tried at each split: 6\n",
       "\n",
       "        OOB estimate of  error rate: 24.59%\n",
       "Confusion matrix:\n",
       "    0   1 class.error\n",
       "0 324  72   0.1818182\n",
       "1  79 139   0.3623853"
      ]
     },
     "metadata": {},
     "output_type": "display_data"
    },
    {
     "name": "stdout",
     "output_type": "stream",
     "text": [
      "The auc using 500 trees is 0.8867308\n",
      "The accuracy using 500 trees is 0.8376623"
     ]
    },
    {
     "data": {
      "text/plain": [
       "         cy.test\n",
       "cbag.pred  0  1\n",
       "        0 96 17\n",
       "        1  8 33"
      ]
     },
     "metadata": {},
     "output_type": "display_data"
    },
    {
     "name": "stdout",
     "output_type": "stream",
     "text": [
      "The auc using 50 trees is 0.8593269\n",
      "The accuracy using 50 trees is 0.8116883"
     ]
    },
    {
     "data": {
      "text/plain": [
       "                 cy.test\n",
       "cbag.50trees.pred  0  1\n",
       "                0 95 20\n",
       "                1  9 30"
      ]
     },
     "metadata": {},
     "output_type": "display_data"
    },
    {
     "data": {
      "image/png": "[encoded data removed]",
      "text/plain": [
       "plot without title"
      ]
     },
     "metadata": {
      "image/png": {
       "height": 420,
       "width": 420
      }
     },
     "output_type": "display_data"
    }
   ],
   "source": [
    "set.seed(0)\n",
    "cbag <- randomForest(diabetes~., data = cdata, subset = ctrain, mtry = 6, type = \"classification\", importance = TRUE)\n",
    "cbag\n",
    "cbag.prob <- predict(cbag, newdata = cdata[-ctrain, ], type = \"prob\")[, 2] # vote\n",
    "cat(\"The auc using 500 trees is\", auc(response = cy.test, predictor = cbag.prob, levels = c(0, 1), direction = \"<\"))\n",
    "cbag.pred <- predict(cbag, newdata = cdata[-ctrain, ], type = \"response\")\n",
    "cat(\"\\nThe accuracy using 500 trees is\", sum(cbag.pred == cy.test) / length(cy.test))\n",
    "table(cbag.pred, cy.test)\n",
    "cbag.50trees <- randomForest(diabetes~., data = cdata, subset = ctrain, mtry = 6, type = \"classification\", importance = TRUE, ntree = 50)\n",
    "cbag.50trees.prob <- predict(cbag.50trees, newdata = cdata[-ctrain, ], type = \"prob\")[, 2]\n",
    "cat(\"The auc using 50 trees is\", auc(response = cy.test, predictor = cbag.50trees.prob, levels = c(0, 1), direction = \"<\"))\n",
    "cbag.50trees.pred <- predict(cbag.50trees, newdata = cdata[-ctrain, ], type = \"class\")\n",
    "cat(\"\\nThe accuracy using 50 trees is\", sum(cbag.50trees.pred == cy.test) / length(cy.test))\n",
    "table(cbag.50trees.pred, cy.test)\n",
    "varImpPlot(cbag)"
   ]
  },
  {
   "attachments": {},
   "cell_type": "markdown",
   "metadata": {},
   "source": [
    "random forests"
   ]
  },
  {
   "cell_type": "code",
   "execution_count": 7,
   "metadata": {
    "vscode": {
     "languageId": "r"
    }
   },
   "outputs": [
    {
     "data": {
      "text/plain": [
       "\n",
       "Call:\n",
       " randomForest(formula = diabetes ~ ., data = cdata, type = \"classification\",      mtry = 4, importance = TRUE, ntree = 500, subset = ctrain) \n",
       "               Type of random forest: classification\n",
       "                     Number of trees: 500\n",
       "No. of variables tried at each split: 4\n",
       "\n",
       "        OOB estimate of  error rate: 24.76%\n",
       "Confusion matrix:\n",
       "    0   1 class.error\n",
       "0 327  69   0.1742424\n",
       "1  83 135   0.3807339"
      ]
     },
     "metadata": {},
     "output_type": "display_data"
    },
    {
     "name": "stdout",
     "output_type": "stream",
     "text": [
      "The auc using 500 trees is 0.8881731\n",
      "The accuracy using 500 trees is 0.8441558"
     ]
    },
    {
     "data": {
      "text/plain": [
       "        cy.test\n",
       "cff.pred  0  1\n",
       "       0 97 17\n",
       "       1  7 33"
      ]
     },
     "metadata": {},
     "output_type": "display_data"
    },
    {
     "name": "stdout",
     "output_type": "stream",
     "text": [
      "\n",
      "The auc using 50 trees is 0.8753846\n",
      "The accuracy using 50 trees is 0.8181818"
     ]
    },
    {
     "data": {
      "text/plain": [
       "                cy.test\n",
       "cff.50trees.pred  0  1\n",
       "               0 93 17\n",
       "               1 11 33"
      ]
     },
     "metadata": {},
     "output_type": "display_data"
    },
    {
     "data": {
      "image/png": "[encoded data removed]",
      "text/plain": [
       "plot without title"
      ]
     },
     "metadata": {
      "image/png": {
       "height": 420,
       "width": 420
      }
     },
     "output_type": "display_data"
    }
   ],
   "source": [
    "set.seed(0)\n",
    "cff <- randomForest(diabetes~., data = cdata, subset = ctrain, type = \"classification\", mtry = 4, importance = TRUE, ntree = 500)\n",
    "cff\n",
    "cff.prob <- predict(cff, newdata = cdata[-ctrain, ], type = \"prob\")[, 2]\n",
    "cat(\"The auc using 500 trees is\", auc(response = cy.test, predictor = cff.prob, levels = c(0, 1), direction = \"<\"))\n",
    "cff.pred <- predict(cff, newdata = cdata[-ctrain, ], type = \"class\")\n",
    "cat(\"\\nThe accuracy using 500 trees is\", sum(cff.pred == cy.test) / length(cy.test))\n",
    "table(cff.pred, cy.test)\n",
    "cff.50trees <- randomForest(diabetes~., data = cdata[ctrain, ], type = \"classification\", mtry = 4, importance = TRUE, ntree = 50)\n",
    "cff.50trees.prob <- predict(cff.50trees, newdata = cdata[-ctrain, ], type = \"prob\")[, 2]\n",
    "cat(\"\\nThe auc using 50 trees is\", auc(response = cy.test, predictor = cff.50trees.prob, levels = c(0, 1), direction = \"<\"))\n",
    "cff.50trees.pred <- predict(cff.50trees, newdata = cdata[-ctrain, ], type = \"class\")\n",
    "cat(\"\\nThe accuracy using 50 trees is\", sum(cff.50trees.pred == cy.test) / length(cy.test))\n",
    "table(cff.50trees.pred, cy.test)\n",
    "varImpPlot(cff)"
   ]
  },
  {
   "attachments": {},
   "cell_type": "markdown",
   "metadata": {},
   "source": [
    "# 4. Bosting"
   ]
  },
  {
   "attachments": {},
   "cell_type": "markdown",
   "metadata": {},
   "source": [
    "transfer factor y to numeric y"
   ]
  },
  {
   "cell_type": "code",
   "execution_count": 8,
   "metadata": {
    "vscode": {
     "languageId": "r"
    }
   },
   "outputs": [],
   "source": [
    "cdata$diabetes <- as.numeric(cdata$diabetes)\n",
    "cdata$diabetes <- cdata$diabetes - 1"
   ]
  },
  {
   "cell_type": "code",
   "execution_count": 9,
   "metadata": {
    "vscode": {
     "languageId": "r"
    }
   },
   "outputs": [
    {
     "data": {
      "text/plain": [
       "gbm(formula = diabetes ~ ., distribution = \"bernoulli\", data = cdata[ctrain, \n",
       "    ], n.trees = 1000, interaction.depth = 4, shrinkage = 0.01)\n",
       "A gradient boosted model with bernoulli loss function.\n",
       "1000 iterations were performed.\n",
       "There were 6 predictors of which 6 had non-zero influence."
      ]
     },
     "metadata": {},
     "output_type": "display_data"
    },
    {
     "data": {
      "text/html": [
       "<table class=\"dataframe\">\n",
       "<caption>A data.frame: 6 × 2</caption>\n",
       "<thead>\n",
       "\t<tr><th></th><th scope=col>var</th><th scope=col>rel.inf</th></tr>\n",
       "\t<tr><th></th><th scope=col>&lt;chr&gt;</th><th scope=col>&lt;dbl&gt;</th></tr>\n",
       "</thead>\n",
       "<tbody>\n",
       "\t<tr><th scope=row>glucose</th><td>glucose </td><td>34.846043</td></tr>\n",
       "\t<tr><th scope=row>mass</th><td>mass    </td><td>21.291370</td></tr>\n",
       "\t<tr><th scope=row>age</th><td>age     </td><td>16.092708</td></tr>\n",
       "\t<tr><th scope=row>pedigree</th><td>pedigree</td><td>14.564658</td></tr>\n",
       "\t<tr><th scope=row>pregnant</th><td>pregnant</td><td> 7.329443</td></tr>\n",
       "\t<tr><th scope=row>pressure</th><td>pressure</td><td> 5.875778</td></tr>\n",
       "</tbody>\n",
       "</table>\n"
      ],
      "text/latex": [
       "A data.frame: 6 × 2\n",
       "\\begin{tabular}{r|ll}\n",
       "  & var & rel.inf\\\\\n",
       "  & <chr> & <dbl>\\\\\n",
       "\\hline\n",
       "\tglucose & glucose  & 34.846043\\\\\n",
       "\tmass & mass     & 21.291370\\\\\n",
       "\tage & age      & 16.092708\\\\\n",
       "\tpedigree & pedigree & 14.564658\\\\\n",
       "\tpregnant & pregnant &  7.329443\\\\\n",
       "\tpressure & pressure &  5.875778\\\\\n",
       "\\end{tabular}\n"
      ],
      "text/markdown": [
       "\n",
       "A data.frame: 6 × 2\n",
       "\n",
       "| <!--/--> | var &lt;chr&gt; | rel.inf &lt;dbl&gt; |\n",
       "|---|---|---|\n",
       "| glucose | glucose  | 34.846043 |\n",
       "| mass | mass     | 21.291370 |\n",
       "| age | age      | 16.092708 |\n",
       "| pedigree | pedigree | 14.564658 |\n",
       "| pregnant | pregnant |  7.329443 |\n",
       "| pressure | pressure |  5.875778 |\n",
       "\n"
      ],
      "text/plain": [
       "         var      rel.inf  \n",
       "glucose  glucose  34.846043\n",
       "mass     mass     21.291370\n",
       "age      age      16.092708\n",
       "pedigree pedigree 14.564658\n",
       "pregnant pregnant  7.329443\n",
       "pressure pressure  5.875778"
      ]
     },
     "metadata": {},
     "output_type": "display_data"
    },
    {
     "name": "stdout",
     "output_type": "stream",
     "text": [
      "The auc is 0.8794231\n",
      "The accuracy is 0.8181818"
     ]
    },
    {
     "data": {
      "text/plain": [
       "          cy.test\n",
       "cbost.pred  0  1\n",
       "         0 94 18\n",
       "         1 10 32"
      ]
     },
     "metadata": {},
     "output_type": "display_data"
    }
   ],
   "source": [
    "cbost <- gbm(diabetes~., data = cdata[ctrain, ], \n",
    "    distribution = \"bernoulli\", n.trees = 1000, \n",
    "    interaction.depth = 4, shrinkage = 0.01)\n",
    "cbost\n",
    "summary(cbost, plot = FALSE)\n",
    "cbost.prob <- predict(cbost, newdata = cdata[-ctrain, ], type = \"response\", n.trees = 1000)\n",
    "# cbost.pred <- predict(cbost, newdata = cdata[-ctrain, ], type = \"link\")\n",
    "cat(\"The auc is\", auc(response = cy.test, predictor = cbost.prob, levels = c(0, 1), direction = \"<\"))\n",
    "cbost.pred <- ifelse(cbost.prob >= 0.5, yes = 1, no = 0)\n",
    "cat(\"\\nThe accuracy is\", sum(cbost.pred == cy.test) / length(cy.test))\n",
    "table(cbost.pred, cy.test)"
   ]
  },
  {
   "attachments": {},
   "cell_type": "markdown",
   "metadata": {},
   "source": [
    "# 5.Save Environment"
   ]
  },
  {
   "cell_type": "code",
   "execution_count": 15,
   "metadata": {
    "vscode": {
     "languageId": "r"
    }
   },
   "outputs": [],
   "source": [
    "save.image(\"8.1ForClassification.RData\")"
   ]
  }
 ],
 "metadata": {
  "kernelspec": {
   "display_name": "R",
   "language": "R",
   "name": "ir"
  },
  "language_info": {
   "codemirror_mode": "r",
   "file_extension": ".r",
   "mimetype": "text/x-r-source",
   "name": "R",
   "pygments_lexer": "r",
   "version": "4.2.3"
  },
  "orig_nbformat": 4
 },
 "nbformat": 4,
 "nbformat_minor": 2
}
